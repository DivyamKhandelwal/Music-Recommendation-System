{
  "cells": [
    {
      "cell_type": "code",
      "execution_count": null,
      "metadata": {
        "id": "se4v86gcCUdB"
      },
      "outputs": [],
      "source": [
        "# Code to build a Music Recommendation System using Python and Spotify API"
      ]
    },
    {
      "cell_type": "code",
      "execution_count": null,
      "metadata": {
        "colab": {
          "base_uri": "https://localhost:8080/"
        },
        "id": "15m6Hs82G29y",
        "outputId": "89f32f58-9dfe-46d0-c128-a3f892f1eb13"
      },
      "outputs": [
        {
          "name": "stdout",
          "output_type": "stream",
          "text": [
            "Access token obtained successfully.\n"
          ]
        }
      ],
      "source": [
        "import requests\n",
        "import base64\n",
        "\n",
        "# Hold Spotify Developer Web API Credentials The Client ID identifies the\n",
        "# application, while the Client Secret is a confidential key used for authentication.\n",
        "CLIENT_ID = 'b0ae5675885f4c1fa1db528ad0bf04e7'\n",
        "CLIENT_SECRET = 'fcc9f6f154cd42879b6358928b07dbc5'\n",
        "\n",
        "# Base64 encode the client ID and client secret to Encode\n",
        "# to create a secure representation of the credentials\n",
        "client_credentials = f\"{CLIENT_ID}:{CLIENT_SECRET}\"\n",
        "client_credentials_base64 = base64.b64encode(client_credentials.encode())\n",
        "\n",
        "# Request the access token\n",
        "token_url = 'https://accounts.spotify.com/api/token'\n",
        "headers = {'Authorization': f'Basic {client_credentials_base64.decode()}'}\n",
        "data = {'grant_type': 'client_credentials'}\n",
        "response = requests.post(token_url, data=data, headers=headers)\n",
        "\n",
        "if response.status_code == 200:\n",
        "    access_token = response.json()['access_token']\n",
        "    print(\"Access token obtained successfully.\")\n",
        "else:\n",
        "    print(\"Error obtaining access token.\")\n",
        "    exit()"
      ]
    },
    {
      "cell_type": "code",
      "execution_count": null,
      "metadata": {
        "colab": {
          "base_uri": "https://localhost:8080/"
        },
        "id": "seW6N7P2EQKZ",
        "outputId": "3c019468-9ccc-43f0-b8c5-69a9b53b826e"
      },
      "outputs": [
        {
          "name": "stdout",
          "output_type": "stream",
          "text": [
            "Requirement already satisfied: spotipy in /usr/local/lib/python3.10/dist-packages (2.24.0)\n",
            "Requirement already satisfied: redis>=3.5.3 in /usr/local/lib/python3.10/dist-packages (from spotipy) (5.2.0)\n",
            "Requirement already satisfied: requests>=2.25.0 in /usr/local/lib/python3.10/dist-packages (from spotipy) (2.32.3)\n",
            "Requirement already satisfied: urllib3>=1.26.0 in /usr/local/lib/python3.10/dist-packages (from spotipy) (2.2.3)\n",
            "Requirement already satisfied: async-timeout>=4.0.3 in /usr/local/lib/python3.10/dist-packages (from redis>=3.5.3->spotipy) (4.0.3)\n",
            "Requirement already satisfied: charset-normalizer<4,>=2 in /usr/local/lib/python3.10/dist-packages (from requests>=2.25.0->spotipy) (3.4.0)\n",
            "Requirement already satisfied: idna<4,>=2.5 in /usr/local/lib/python3.10/dist-packages (from requests>=2.25.0->spotipy) (3.10)\n",
            "Requirement already satisfied: certifi>=2017.4.17 in /usr/local/lib/python3.10/dist-packages (from requests>=2.25.0->spotipy) (2024.8.30)\n"
          ]
        }
      ],
      "source": [
        "# Install Spotify Library\n",
        "\n",
        "!pip install spotipy"
      ]
    },
    {
      "cell_type": "code",
      "execution_count": null,
      "metadata": {
        "id": "aRMj76ckHNW4"
      },
      "outputs": [],
      "source": [
        "#  Function to get music data from any playlist on Spotify\n",
        "\n",
        "import pandas as pd\n",
        "import spotipy\n",
        "from spotipy.oauth2 import SpotifyOAuth\n",
        "\n",
        "def get_trending_playlist_data(playlist_id, access_token):\n",
        "    # Set up Spotipy with the access token\n",
        "    sp = spotipy.Spotify(auth=access_token)\n",
        "\n",
        "    # Get the tracks from the playlist\n",
        "    playlist_tracks = sp.playlist_tracks(playlist_id, fields='items(track(id, name, artists, album(id, name)))')\n",
        "\n",
        "    # Extract relevant information and store in a list of dictionaries\n",
        "    music_data = []\n",
        "    for track_info in playlist_tracks['items']:\n",
        "        track = track_info['track']\n",
        "        track_name = track['name']\n",
        "        artists = ', '.join([artist['name'] for artist in track['artists']])\n",
        "        album_name = track['album']['name']\n",
        "        album_id = track['album']['id']\n",
        "        track_id = track['id']\n",
        "\n",
        "        # Get audio features for the track\n",
        "        audio_features = sp.audio_features(track_id)[0] if track_id != 'Not available' else None\n",
        "\n",
        "        # Get release date of the album\n",
        "        try:\n",
        "            album_info = sp.album(album_id) if album_id != 'Not available' else None\n",
        "            release_date = album_info['release_date'] if album_info else None\n",
        "        except:\n",
        "            release_date = None\n",
        "\n",
        "        # Get popularity of the track\n",
        "        try:\n",
        "            track_info = sp.track(track_id) if track_id != 'Not available' else None\n",
        "            popularity = track_info['popularity'] if track_info else None\n",
        "        except:\n",
        "            popularity = None\n",
        "\n",
        "        # Add additional track information to the track data\n",
        "        track_data = {\n",
        "            'Track Name': track_name,\n",
        "            'Artists': artists,\n",
        "            'Album Name': album_name,\n",
        "            'Album ID': album_id,\n",
        "            'Track ID': track_id,\n",
        "            'Popularity': popularity,\n",
        "            'Release Date': release_date,\n",
        "            'Duration (ms)': audio_features['duration_ms'] if audio_features else None,\n",
        "            'Explicit': track_info.get('explicit', None),\n",
        "            'External URLs': track_info.get('external_urls', {}).get('spotify', None),\n",
        "            'Danceability': audio_features['danceability'] if audio_features else None,\n",
        "            'Energy': audio_features['energy'] if audio_features else None,\n",
        "            'Key': audio_features['key'] if audio_features else None,\n",
        "            'Loudness': audio_features['loudness'] if audio_features else None,\n",
        "            'Mode': audio_features['mode'] if audio_features else None,\n",
        "            'Speechiness': audio_features['speechiness'] if audio_features else None,\n",
        "            'Acousticness': audio_features['acousticness'] if audio_features else None,\n",
        "            'Instrumentalness': audio_features['instrumentalness'] if audio_features else None,\n",
        "            'Liveness': audio_features['liveness'] if audio_features else None,\n",
        "            'Valence': audio_features['valence'] if audio_features else None,\n",
        "            'Tempo': audio_features['tempo'] if audio_features else None,\n",
        "            # Add more attributes as needed\n",
        "        }\n",
        "\n",
        "        music_data.append(track_data)\n",
        "\n",
        "    # Create a pandas DataFrame from the list of dictionaries\n",
        "    df = pd.DataFrame(music_data)\n",
        "\n",
        "    return df"
      ]
    },
    {
      "cell_type": "code",
      "execution_count": null,
      "metadata": {
        "colab": {
          "background_save": true
        },
        "id": "4UhcVxS1JDsQ",
        "outputId": "7b1e63bb-acbd-44bd-cebe-ed0e8cd88804"
      },
      "outputs": [
        {
          "name": "stdout",
          "output_type": "stream",
          "text": [
            "                     Track Name                                     Artists  \\\n",
            "0                          APT.                            ROSÉ, Bruno Mars   \n",
            "1         The Emptiness Machine                                 Linkin Park   \n",
            "2                   Not Like Us                              Kendrick Lamar   \n",
            "3                   Rah Tah Tah                          Tyler, The Creator   \n",
            "4                     Big Dawgs                          Hanumankind, Kalmi   \n",
            "..                          ...                                         ...   \n",
            "95                        REACT  Switch Disco, Ella Henderson, Robert Miles   \n",
            "96       Astronaut In The Ocean                                 Masked Wolf   \n",
            "97  Another Love - Tiësto Remix                           Tom Odell, Tiësto   \n",
            "98                   Tarantella                            Gabry Ponte, KEL   \n",
            "99            MONEY ON THE DASH                         Elley Duhé, Whethan   \n",
            "\n",
            "                     Album Name                Album ID  \\\n",
            "0                          APT.  2IYQwwgxgOIn7t3iF6ufFD   \n",
            "1         The Emptiness Machine  6W0Gabv5f3ugnckc6YgfJQ   \n",
            "2                   Not Like Us  5JjnoGJyOxfSZUZtk2rRwZ   \n",
            "3                   CHROMAKOPIA  0U28P0QVB1QRxpqp5IHOlH   \n",
            "4                     Big Dawgs  6Yw4204wbgmpsGTzjXBhYD   \n",
            "..                          ...                     ...   \n",
            "95                        REACT  3opvHAj80TIQMZAg9a2FNv   \n",
            "96       Astronaut In The Ocean  7vus4Q8r5DS2Dl1JClxEsA   \n",
            "97  Another Love (Tiësto Remix)  1QltVGlNGbK94CKgUsYZGa   \n",
            "98                   Tarantella  0nxNoLQWFwsRqTfLh7R0sq   \n",
            "99            MONEY ON THE DASH  1nlaLDMPSzXL8G5LPBDhwd   \n",
            "\n",
            "                  Track ID  Popularity Release Date  Duration (ms)  Explicit  \\\n",
            "0   5vNRhkKd0yEAg8suGBpjeY          98   2024-10-18         169917     False   \n",
            "1   2PnlsTsOTLE5jnBnNe2K0A          90   2024-09-05         190428      True   \n",
            "2   6AI3ezQ4o3HUoP6Dhudph3          88   2024-05-04         274192      True   \n",
            "3   5RePVWy39tLpHH0WwXgBsK          87   2024-10-28         165413      True   \n",
            "4   0OA00aPt3BV10qeMIs3meW          86   2024-07-09         190667      True   \n",
            "..                     ...         ...          ...            ...       ...   \n",
            "95  1UPHCP5YeVfele4DMbdGyi          70   2023-01-13         201146     False   \n",
            "96  3Ofmpyhv5UAQ70mENzB277          69   2021-01-06         132780      True   \n",
            "97  4Et6tUEO7biKxZEfJXpNj1          69   2022-05-13         185366     False   \n",
            "98  4pBuhoBxgwBpkkOhfT6p6N          69   2024-03-29         145554     False   \n",
            "99  1p0jBDjxORjYNJyAphBRpE          69   2023-01-20         145667     False   \n",
            "\n",
            "                                        External URLs  ...  Energy  Key  \\\n",
            "0   https://open.spotify.com/track/5vNRhkKd0yEAg8s...  ...   0.783    0   \n",
            "1   https://open.spotify.com/track/2PnlsTsOTLE5jnB...  ...   0.872    7   \n",
            "2   https://open.spotify.com/track/6AI3ezQ4o3HUoP6...  ...   0.472    1   \n",
            "3   https://open.spotify.com/track/5RePVWy39tLpHH0...  ...   0.878    1   \n",
            "4   https://open.spotify.com/track/0OA00aPt3BV10qe...  ...   0.745    4   \n",
            "..                                                ...  ...     ...  ...   \n",
            "95  https://open.spotify.com/track/1UPHCP5YeVfele4...  ...   0.899    6   \n",
            "96  https://open.spotify.com/track/3Ofmpyhv5UAQ70m...  ...   0.695    4   \n",
            "97  https://open.spotify.com/track/4Et6tUEO7biKxZE...  ...   0.764    4   \n",
            "98  https://open.spotify.com/track/4pBuhoBxgwBpkkO...  ...   0.861    9   \n",
            "99  https://open.spotify.com/track/1p0jBDjxORjYNJy...  ...   0.667    8   \n",
            "\n",
            "    Loudness  Mode  Speechiness  Acousticness  Instrumentalness  Liveness  \\\n",
            "0     -4.477     0       0.2600       0.02830          0.000000     0.355   \n",
            "1     -3.344     1       0.0336       0.01560          0.000000     0.121   \n",
            "2     -7.001     1       0.0776       0.01070          0.000000     0.141   \n",
            "3     -4.099     1       0.3100       0.00289          0.000000     0.381   \n",
            "4     -3.202     0       0.1610       0.02350          0.000000     0.363   \n",
            "..       ...   ...          ...           ...               ...       ...   \n",
            "95    -3.189     0       0.0556       0.03290          0.000000     0.186   \n",
            "96    -6.865     0       0.0913       0.17500          0.000000     0.150   \n",
            "97    -4.685     0       0.0737       0.08360          0.087100     0.132   \n",
            "98    -5.509     1       0.0781       0.13900          0.000026     0.332   \n",
            "99    -7.126     1       0.0843       0.04390          0.000013     0.179   \n",
            "\n",
            "    Valence    Tempo  \n",
            "0     0.939  149.027  \n",
            "1     0.806  184.115  \n",
            "2     0.214  101.061  \n",
            "3     0.514   82.557  \n",
            "4     0.262  180.098  \n",
            "..      ...      ...  \n",
            "95    0.358  125.992  \n",
            "96    0.472  149.996  \n",
            "97    0.473  123.046  \n",
            "98    0.426  140.072  \n",
            "99    0.292  120.044  \n",
            "\n",
            "[100 rows x 21 columns]\n"
          ]
        }
      ],
      "source": [
        "# Call the Function with a particular playlist ID\n",
        "\n",
        "playlist_id = '37i9dQZF1DX76Wlfdnj7AP'  # Trending Playlist\n",
        "\n",
        "# Call the function to get the music data from\n",
        "# the playlist and store it in a DataFrame\n",
        "music_df = get_trending_playlist_data(playlist_id, access_token)\n",
        "\n",
        "# Display the DataFrame\n",
        "print(music_df)"
      ]
    },
    {
      "cell_type": "code",
      "execution_count": null,
      "metadata": {
        "colab": {
          "background_save": true
        },
        "id": "pE714NypJFKM",
        "outputId": "be4f98e2-ba15-48d2-c140-74888d06e01a"
      },
      "outputs": [
        {
          "name": "stdout",
          "output_type": "stream",
          "text": [
            "Track Name          0\n",
            "Artists             0\n",
            "Album Name          0\n",
            "Album ID            0\n",
            "Track ID            0\n",
            "Popularity          0\n",
            "Release Date        0\n",
            "Duration (ms)       0\n",
            "Explicit            0\n",
            "External URLs       0\n",
            "Danceability        0\n",
            "Energy              0\n",
            "Key                 0\n",
            "Loudness            0\n",
            "Mode                0\n",
            "Speechiness         0\n",
            "Acousticness        0\n",
            "Instrumentalness    0\n",
            "Liveness            0\n",
            "Valence             0\n",
            "Tempo               0\n",
            "dtype: int64\n"
          ]
        }
      ],
      "source": [
        "# Check for null values\n",
        "\n",
        "print(music_df.isnull().sum())"
      ]
    },
    {
      "cell_type": "code",
      "execution_count": null,
      "metadata": {
        "colab": {
          "background_save": true
        },
        "id": "ElncVw4yKZsI"
      },
      "outputs": [],
      "source": [
        "# Building the music recommendation system\n",
        "\n",
        "import pandas as pd\n",
        "import numpy as np\n",
        "from sklearn.model_selection import train_test_split\n",
        "from sklearn.preprocessing import MinMaxScaler\n",
        "from datetime import datetime # Provides classes for manipulating dates and times\n",
        "from sklearn.metrics.pairwise import cosine_similarity # This function computes the cosine similarity between two sets of vectors (Basically cos theta for 2 Vectors)\n",
        "\n",
        "data = music_df"
      ]
    },
    {
      "cell_type": "code",
      "execution_count": null,
      "metadata": {
        "colab": {
          "background_save": true
        },
        "id": "xf1XC-fnLRJO"
      },
      "outputs": [],
      "source": [
        "# Function to calculate weighted popularity scores based on release date to recommend the latest releases\n",
        "\n",
        "def calculate_weighted_popularity(release_date):\n",
        "    # Convert the release date to datetime object\n",
        "    release_date = datetime.strptime(release_date, '%Y-%m-%d')\n",
        "\n",
        "    # Calculate the time span between release date and today's date\n",
        "    time_span = datetime.now() - release_date\n",
        "\n",
        "    # Calculate the weighted popularity score based on time span (e.g., more recent releases have higher weight)\n",
        "    weight = 1 / (time_span.days + 1)\n",
        "\n",
        "    return weight"
      ]
    },
    {
      "cell_type": "code",
      "execution_count": null,
      "metadata": {
        "colab": {
          "background_save": true
        },
        "id": "zbUV_FeuLoV5"
      },
      "outputs": [],
      "source": [
        "# Normalize the music features using Min-Max scaling\n",
        "\n",
        "scaler = MinMaxScaler()\n",
        "music_features = music_df[['Danceability', 'Energy', 'Key',\n",
        "                           'Loudness', 'Mode', 'Speechiness', 'Acousticness',\n",
        "                           'Instrumentalness', 'Liveness', 'Valence', 'Tempo']].values\n",
        "music_features_scaled = scaler.fit_transform(music_features)"
      ]
    },
    {
      "cell_type": "code",
      "execution_count": null,
      "metadata": {
        "colab": {
          "background_save": true
        },
        "id": "aLGFrGsXL1dT"
      },
      "outputs": [],
      "source": [
        "# We will create a hybrid recommendation system for music recommendations. The\n",
        "# first approach will be based on recommending music based on music audio\n",
        "# features, and the second approach will be based on recommending music based on\n",
        "# weighted popularity. The hybrid approach aims to provide more personalized and\n",
        "# relevant recommendations by considering both the content similarity of songs\n",
        "# and their weighted popularity."
      ]
    },
    {
      "cell_type": "code",
      "execution_count": null,
      "metadata": {
        "colab": {
          "background_save": true
        },
        "id": "zchBc9YUL-SL"
      },
      "outputs": [],
      "source": [
        "# Generate music recommendations based on the music audio features\n",
        "\n",
        "# a function to get content-based recommendations based on music features\n",
        "def content_based_recommendations(input_song_name, num_recommendations=5):\n",
        "    if input_song_name not in music_df['Track Name'].values:\n",
        "        print(f\"'{input_song_name}' not found in the dataset. Please enter a valid song name.\")\n",
        "        return\n",
        "\n",
        "    # Get the index of the input song in the music DataFrame\n",
        "    input_song_index = music_df[music_df['Track Name'] == input_song_name].index[0]\n",
        "\n",
        "    # Calculate the similarity scores based on music features (cosine similarity : a common measure used in content-based filtering)\n",
        "    similarity_scores = cosine_similarity([music_features_scaled[input_song_index]], music_features_scaled)\n",
        "\n",
        "    # Get the indices of the most similar songs\n",
        "    similar_song_indices = similarity_scores.argsort()[0][::-1][1:num_recommendations + 1]\n",
        "\n",
        "    # Get the names of the most similar songs based on content-based filtering\n",
        "    content_based_recommendations = music_df.iloc[similar_song_indices][['Track Name', 'Artists', 'Album Name', 'Release Date', 'Popularity']]\n",
        "\n",
        "    return content_based_recommendations"
      ]
    },
    {
      "cell_type": "code",
      "execution_count": null,
      "metadata": {
        "colab": {
          "background_save": true
        },
        "id": "RTit0wtyOEWa"
      },
      "outputs": [],
      "source": [
        "# Generate music recommendations based on weighted popularity and combine\n",
        "# it with the recommendations of the content-based filtering method using\n",
        "# the hybrid approach\n",
        "\n",
        "import pandas as pd\n",
        "\n",
        "def hybrid_recommendations(input_song_name, num_recommendations=5, alpha=0.5):\n",
        "    if input_song_name not in music_df['Track Name'].values:\n",
        "        print(f\"'{input_song_name}' not found in the dataset. Please enter a valid song name.\")\n",
        "        return\n",
        "\n",
        "    content_based_rec = content_based_recommendations(input_song_name, num_recommendations)\n",
        "\n",
        "    popularity_score = music_df.loc[music_df['Track Name'] == input_song_name, 'Popularity'].values[0]\n",
        "\n",
        "    weighted_popularity_score = popularity_score * calculate_weighted_popularity(\n",
        "        music_df.loc[music_df['Track Name'] == input_song_name, 'Release Date'].values[0]\n",
        "    )\n",
        "\n",
        "    new_entry = pd.DataFrame({\n",
        "        'Track Name': [input_song_name],\n",
        "        'Artists': [music_df.loc[music_df['Track Name'] == input_song_name, 'Artists'].values[0]],\n",
        "        'Album Name': [music_df.loc[music_df['Track Name'] == input_song_name, 'Album Name'].values[0]],\n",
        "        'Release Date': [music_df.loc[music_df['Track Name'] == input_song_name, 'Release Date'].values[0]],\n",
        "        'Popularity': [weighted_popularity_score]\n",
        "    })\n",
        "\n",
        "    hybrid_recommendations = pd.concat([content_based_rec, new_entry], ignore_index=True)\n",
        "\n",
        "    hybrid_recommendations = hybrid_recommendations.sort_values(by='Popularity', ascending=False)\n",
        "\n",
        "    hybrid_recommendations = hybrid_recommendations[hybrid_recommendations['Track Name'] != input_song_name]\n",
        "\n",
        "    return hybrid_recommendations"
      ]
    },
    {
      "cell_type": "code",
      "execution_count": null,
      "metadata": {
        "colab": {
          "background_save": true
        },
        "id": "ua70bJlrOOss",
        "outputId": "d698c245-9f15-47ac-858e-2a0d034ade25"
      },
      "outputs": [
        {
          "name": "stdout",
          "output_type": "stream",
          "text": [
            "Hybrid recommended songs for 'I'm Good (Blue)':\n",
            "                     Track Name                                     Artists  \\\n",
            "1                       Disease                                   Lady Gaga   \n",
            "2                       KEEP UP                                     Odetari   \n",
            "3  It's Not Right But It's Okay                            Mr. Belt & Wezol   \n",
            "4         Rainfall (Praise You)                                   Tom Santa   \n",
            "0                         REACT  Switch Disco, Ella Henderson, Robert Miles   \n",
            "\n",
            "                     Album Name Release Date  Popularity  \n",
            "1                       Disease   2024-10-25        86.0  \n",
            "2          KEEP UP // FROSTBITE   2024-07-17        84.0  \n",
            "3  It's Not Right But It's Okay   2024-02-23        78.0  \n",
            "4         Rainfall (Praise You)   2022-02-18        71.0  \n",
            "0                         REACT   2023-01-13        70.0  \n"
          ]
        }
      ],
      "source": [
        "# Testing the hybrid recommendation\n",
        "\n",
        "input_song_name = \"I'm Good (Blue)\"\n",
        "recommendations = hybrid_recommendations(input_song_name, num_recommendations=5)\n",
        "print(f\"Hybrid recommended songs for '{input_song_name}':\")\n",
        "print(recommendations)"
      ]
    }
  ],
  "metadata": {
    "accelerator": "GPU",
    "colab": {
      "gpuType": "T4",
      "machine_shape": "hm",
      "provenance": []
    },
    "kernelspec": {
      "display_name": "Python 3",
      "name": "python3"
    },
    "language_info": {
      "name": "python"
    }
  },
  "nbformat": 4,
  "nbformat_minor": 0
}